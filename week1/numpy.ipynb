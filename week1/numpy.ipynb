{
 "cells": [
  {
   "cell_type": "code",
   "execution_count": null,
   "id": "31ad118d",
   "metadata": {},
   "outputs": [],
   "source": []
  },
  {
   "cell_type": "code",
   "execution_count": null,
   "id": "4a2ed934",
   "metadata": {},
   "outputs": [],
   "source": [
    "#numpy is a numerical matrix calculation library\n",
    "\n",
    "# converting standard array to np array\n",
    "# some common functions\n",
    "# operators"
   ]
  },
  {
   "cell_type": "code",
   "execution_count": 3,
   "id": "19531d07",
   "metadata": {},
   "outputs": [
    {
     "name": "stdout",
     "output_type": "stream",
     "text": [
      "[20, 30, 40, 50, 60, 70]\n"
     ]
    }
   ],
   "source": [
    "marks=[10,20,30,40,50,60]\n",
    "\n",
    "# new_marks=marks+10\n",
    "\n",
    "\n",
    "new_marks=[]\n",
    "for mark in marks:\n",
    "    new_marks.append(mark+10)\n",
    "\n",
    "print(new_marks)"
   ]
  },
  {
   "cell_type": "code",
   "execution_count": 4,
   "id": "5270936c",
   "metadata": {},
   "outputs": [
    {
     "name": "stdout",
     "output_type": "stream",
     "text": [
      "[20 30 40 50 60 70]\n"
     ]
    }
   ],
   "source": [
    "import numpy as np\n",
    "\n",
    "marks=np.array([10,20,30,40,50,60])\n",
    "new_marks=marks+10\n",
    "\n",
    "print(new_marks)"
   ]
  },
  {
   "cell_type": "code",
   "execution_count": 5,
   "id": "c0fba253",
   "metadata": {},
   "outputs": [
    {
     "name": "stdout",
     "output_type": "stream",
     "text": [
      "210\n"
     ]
    }
   ],
   "source": [
    "#evaluate total marks\n",
    "marks=np.array([10,20,30,40,50,60])\n",
    "\n",
    "total_marks=np.sum(marks)\n",
    "print(total_marks)"
   ]
  },
  {
   "cell_type": "code",
   "execution_count": 6,
   "id": "a6b3ead1",
   "metadata": {},
   "outputs": [
    {
     "name": "stdout",
     "output_type": "stream",
     "text": [
      "<class 'list'>\n",
      "<class 'numpy.ndarray'>\n"
     ]
    }
   ],
   "source": [
    "#convert a standard array to a numpy array\n",
    "\n",
    "product_prices=[100,200,300,400,500] #standard array\n",
    "\n",
    "print(type(product_prices)) #list\n",
    "\n",
    "\n",
    "pp=np.array(product_prices) #numpy array\n",
    "\n",
    "print(type(pp)) #numpy.ndarray"
   ]
  },
  {
   "cell_type": "code",
   "execution_count": 7,
   "id": "4ef4ed72",
   "metadata": {},
   "outputs": [
    {
     "name": "stdout",
     "output_type": "stream",
     "text": [
      "300.0\n",
      "300.0\n",
      "141.4213562373095\n",
      "1500\n",
      "100\n",
      "500\n"
     ]
    }
   ],
   "source": [
    "#common functions\n",
    "\n",
    "prices=np.array([100,200,300,400,500])\n",
    "print(np.mean(prices))\n",
    "print(np.median(prices))\n",
    "print(np.std(prices))\n",
    "print(np.sum(prices))\n",
    "print(np.min(prices))\n",
    "print(np.max(prices))"
   ]
  },
  {
   "cell_type": "code",
   "execution_count": null,
   "id": "1ae4c235",
   "metadata": {},
   "outputs": [
    {
     "name": "stdout",
     "output_type": "stream",
     "text": [
      "[[10, 20], [30, 40]]\n"
     ]
    }
   ],
   "source": [
    "#matrix\n",
    "data=[[10,20],[30,40]]\n",
    "print(data)"
   ]
  },
  {
   "cell_type": "code",
   "execution_count": 9,
   "id": "2b6f8abb",
   "metadata": {},
   "outputs": [
    {
     "name": "stdout",
     "output_type": "stream",
     "text": [
      "[[10 20]\n",
      " [30 40]]\n"
     ]
    }
   ],
   "source": [
    "data=np.array([[10,20],[30,40]])\n",
    "print(data)"
   ]
  },
  {
   "cell_type": "code",
   "execution_count": 10,
   "id": "9cf20284",
   "metadata": {},
   "outputs": [
    {
     "name": "stdout",
     "output_type": "stream",
     "text": [
      "[[ 10  40]\n",
      " [ 90 160]]\n"
     ]
    }
   ],
   "source": [
    "a1=np.array([[10,20],[30,40]])\n",
    "a2=np.array([[1,2],[3,4]])\n",
    "\n",
    "a3=a1*a2\n",
    "\n",
    "print(a3)"
   ]
  },
  {
   "cell_type": "code",
   "execution_count": 11,
   "id": "2937b973",
   "metadata": {},
   "outputs": [
    {
     "data": {
      "text/plain": [
       "array([[ 70, 100],\n",
       "       [150, 220]])"
      ]
     },
     "execution_count": 11,
     "metadata": {},
     "output_type": "execute_result"
    }
   ],
   "source": [
    "np.dot(a1,a2)"
   ]
  },
  {
   "cell_type": "code",
   "execution_count": 22,
   "id": "204b4422",
   "metadata": {},
   "outputs": [
    {
     "name": "stdout",
     "output_type": "stream",
     "text": [
      "[[1. 1. 1. 1.]\n",
      " [1. 1. 1. 1.]\n",
      " [1. 1. 1. 1.]]\n",
      "\n",
      "[[0. 0. 0. 0.]\n",
      " [0. 0. 0. 0.]\n",
      " [0. 0. 0. 0.]]\n"
     ]
    }
   ],
   "source": [
    "#shape (3,4)\n",
    "print(np.ones((3,4)))\n",
    "print()\n",
    "print(np.zeros((3,4)))"
   ]
  },
  {
   "cell_type": "code",
   "execution_count": 40,
   "id": "ce273d13",
   "metadata": {},
   "outputs": [
    {
     "name": "stdout",
     "output_type": "stream",
     "text": [
      "[[33  6 26  8 32]\n",
      " [11 40 40 43  8]\n",
      " [26 35 21  6 25]\n",
      " [37 18 36 32 21]\n",
      " [11 20 19 15 28]]\n"
     ]
    }
   ],
   "source": [
    "x=np.random.rand(5,5)\n",
    "x=(x*50).astype(int)\n",
    "print(x)"
   ]
  },
  {
   "cell_type": "code",
   "execution_count": 42,
   "id": "0bdf6dbd",
   "metadata": {},
   "outputs": [
    {
     "name": "stdout",
     "output_type": "stream",
     "text": [
      "[[33  6 26]\n",
      " [11 40 40]\n",
      " [26 35 21]]\n"
     ]
    }
   ],
   "source": [
    "y=x[:3,:3]\n",
    "print(y)"
   ]
  },
  {
   "cell_type": "code",
   "execution_count": null,
   "id": "133ce55b",
   "metadata": {},
   "outputs": [
    {
     "name": "stdout",
     "output_type": "stream",
     "text": [
      "[10 20 30]\n"
     ]
    }
   ],
   "source": [
    "marks=np.array([10,20,30,40,50,60])\n",
    "m2=marks[:3]\n",
    "print(m2)"
   ]
  },
  {
   "cell_type": "code",
   "execution_count": 43,
   "id": "b1ca310d",
   "metadata": {},
   "outputs": [
    {
     "name": "stdout",
     "output_type": "stream",
     "text": [
      "[[23 18 49 21]\n",
      " [31 10 11 46]\n",
      " [30 11 31 28]\n",
      " [37 25  2 45]\n",
      " [37 41 28 17]]\n"
     ]
    }
   ],
   "source": [
    "x=np.random.rand(5,4)\n",
    "x=(x*50).astype(int)\n",
    "print(x)"
   ]
  },
  {
   "cell_type": "code",
   "execution_count": 44,
   "id": "c330a28c",
   "metadata": {},
   "outputs": [
    {
     "name": "stdout",
     "output_type": "stream",
     "text": [
      "(5, 4)\n"
     ]
    }
   ],
   "source": [
    "print(x.shape)"
   ]
  },
  {
   "cell_type": "code",
   "execution_count": 45,
   "id": "7355dfef",
   "metadata": {},
   "outputs": [
    {
     "name": "stdout",
     "output_type": "stream",
     "text": [
      "[[23 18]\n",
      " [49 21]\n",
      " [31 10]\n",
      " [11 46]\n",
      " [30 11]\n",
      " [31 28]\n",
      " [37 25]\n",
      " [ 2 45]\n",
      " [37 41]\n",
      " [28 17]]\n"
     ]
    }
   ],
   "source": [
    "z=x.reshape(10,2)\n",
    "print(z)"
   ]
  },
  {
   "cell_type": "code",
   "execution_count": 48,
   "id": "e7412dc0",
   "metadata": {},
   "outputs": [
    {
     "name": "stdout",
     "output_type": "stream",
     "text": [
      "[23 18 49 21 31 10 11 46 30 11 31 28 37 25  2 45 37 41 28 17]\n"
     ]
    }
   ],
   "source": [
    "a=z.flatten()\n",
    "print(a)"
   ]
  },
  {
   "cell_type": "code",
   "execution_count": 50,
   "id": "ed90b752",
   "metadata": {},
   "outputs": [
    {
     "name": "stdout",
     "output_type": "stream",
     "text": [
      "[[0 1 2]\n",
      " [3 4 5]\n",
      " [6 7 8]]\n"
     ]
    }
   ],
   "source": [
    "c=np.array([[0,1,2],[3,4,5],[6,7,8]])\n",
    "print(c)\n"
   ]
  },
  {
   "cell_type": "code",
   "execution_count": 51,
   "id": "e2da3d72",
   "metadata": {},
   "outputs": [
    {
     "name": "stdout",
     "output_type": "stream",
     "text": [
      "[[0 3 6]\n",
      " [1 4 7]\n",
      " [2 5 8]]\n"
     ]
    }
   ],
   "source": [
    "d=c.T\n",
    "print(d)"
   ]
  },
  {
   "cell_type": "code",
   "execution_count": null,
   "id": "118d7de9",
   "metadata": {},
   "outputs": [],
   "source": []
  }
 ],
 "metadata": {
  "kernelspec": {
   "display_name": "Python 3",
   "language": "python",
   "name": "python3"
  },
  "language_info": {
   "codemirror_mode": {
    "name": "ipython",
    "version": 3
   },
   "file_extension": ".py",
   "mimetype": "text/x-python",
   "name": "python",
   "nbconvert_exporter": "python",
   "pygments_lexer": "ipython3",
   "version": "3.13.4"
  }
 },
 "nbformat": 4,
 "nbformat_minor": 5
}
