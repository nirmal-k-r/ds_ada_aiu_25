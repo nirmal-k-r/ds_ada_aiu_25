{
 "cells": [
  {
   "cell_type": "code",
   "execution_count": 1,
   "id": "51f5baa8",
   "metadata": {},
   "outputs": [],
   "source": [
    "import matplotlib as plt\n",
    "import numpy as np\n",
    "import pandas as pd\n",
    "import seaborn as sns\n",
    "import spacy\n",
    "import random\n",
    "\n",
    "\n",
    "nlp=spacy.load('en_core_web_sm')"
   ]
  },
  {
   "cell_type": "code",
   "execution_count": 2,
   "id": "684ba8f4",
   "metadata": {},
   "outputs": [
    {
     "data": {
      "text/html": [
       "<div>\n",
       "<style scoped>\n",
       "    .dataframe tbody tr th:only-of-type {\n",
       "        vertical-align: middle;\n",
       "    }\n",
       "\n",
       "    .dataframe tbody tr th {\n",
       "        vertical-align: top;\n",
       "    }\n",
       "\n",
       "    .dataframe thead th {\n",
       "        text-align: right;\n",
       "    }\n",
       "</style>\n",
       "<table border=\"1\" class=\"dataframe\">\n",
       "  <thead>\n",
       "    <tr style=\"text-align: right;\">\n",
       "      <th></th>\n",
       "      <th>Review</th>\n",
       "      <th>Rating</th>\n",
       "    </tr>\n",
       "  </thead>\n",
       "  <tbody>\n",
       "    <tr>\n",
       "      <th>0</th>\n",
       "      <td>nice hotel expensive parking got good deal sta...</td>\n",
       "      <td>4</td>\n",
       "    </tr>\n",
       "    <tr>\n",
       "      <th>1</th>\n",
       "      <td>ok nothing special charge diamond member hilto...</td>\n",
       "      <td>2</td>\n",
       "    </tr>\n",
       "    <tr>\n",
       "      <th>2</th>\n",
       "      <td>nice rooms not 4* experience hotel monaco seat...</td>\n",
       "      <td>3</td>\n",
       "    </tr>\n",
       "    <tr>\n",
       "      <th>3</th>\n",
       "      <td>unique, great stay, wonderful time hotel monac...</td>\n",
       "      <td>5</td>\n",
       "    </tr>\n",
       "    <tr>\n",
       "      <th>4</th>\n",
       "      <td>great stay great stay, went seahawk game aweso...</td>\n",
       "      <td>5</td>\n",
       "    </tr>\n",
       "  </tbody>\n",
       "</table>\n",
       "</div>"
      ],
      "text/plain": [
       "                                              Review  Rating\n",
       "0  nice hotel expensive parking got good deal sta...       4\n",
       "1  ok nothing special charge diamond member hilto...       2\n",
       "2  nice rooms not 4* experience hotel monaco seat...       3\n",
       "3  unique, great stay, wonderful time hotel monac...       5\n",
       "4  great stay great stay, went seahawk game aweso...       5"
      ]
     },
     "execution_count": 2,
     "metadata": {},
     "output_type": "execute_result"
    }
   ],
   "source": [
    "df=pd.read_csv('tripadvisor_hotel_reviews.csv')\n",
    "df.head()"
   ]
  },
  {
   "cell_type": "code",
   "execution_count": 3,
   "id": "3555f402",
   "metadata": {},
   "outputs": [
    {
     "name": "stdout",
     "output_type": "stream",
     "text": [
      "<class 'pandas.core.frame.DataFrame'>\n",
      "RangeIndex: 20491 entries, 0 to 20490\n",
      "Data columns (total 2 columns):\n",
      " #   Column  Non-Null Count  Dtype \n",
      "---  ------  --------------  ----- \n",
      " 0   Review  20491 non-null  object\n",
      " 1   Rating  20491 non-null  int64 \n",
      "dtypes: int64(1), object(1)\n",
      "memory usage: 320.3+ KB\n"
     ]
    }
   ],
   "source": [
    "df.info()"
   ]
  },
  {
   "cell_type": "code",
   "execution_count": 4,
   "id": "a44fe953",
   "metadata": {},
   "outputs": [
    {
     "name": "stdout",
     "output_type": "stream",
     "text": [
      "<class 'pandas.core.frame.DataFrame'>\n",
      "RangeIndex: 1000 entries, 0 to 999\n",
      "Data columns (total 2 columns):\n",
      " #   Column  Non-Null Count  Dtype \n",
      "---  ------  --------------  ----- \n",
      " 0   Review  1000 non-null   object\n",
      " 1   Rating  1000 non-null   int64 \n",
      "dtypes: int64(1), object(1)\n",
      "memory usage: 15.8+ KB\n"
     ]
    }
   ],
   "source": [
    "#sample reviews in df2\n",
    "df2=df.sample(1000, random_state=42)\n",
    "df2=df2.reset_index(drop=True)\n",
    "df2.info()\n",
    "                                       \n",
    "                                         "
   ]
  },
  {
   "cell_type": "code",
   "execution_count": 5,
   "id": "17189dc7",
   "metadata": {},
   "outputs": [
    {
     "data": {
      "text/plain": [
       "Rating\n",
       "5    453\n",
       "4    294\n",
       "3    110\n",
       "2     77\n",
       "1     66\n",
       "Name: count, dtype: int64"
      ]
     },
     "execution_count": 5,
     "metadata": {},
     "output_type": "execute_result"
    }
   ],
   "source": [
    "df2['Rating'].value_counts()"
   ]
  },
  {
   "cell_type": "code",
   "execution_count": 6,
   "id": "c8b82162",
   "metadata": {},
   "outputs": [
    {
     "name": "stdout",
     "output_type": "stream",
     "text": [
      "<class 'pandas.core.frame.DataFrame'>\n",
      "RangeIndex: 1000 entries, 0 to 999\n",
      "Data columns (total 2 columns):\n",
      " #   Column  Non-Null Count  Dtype \n",
      "---  ------  --------------  ----- \n",
      " 0   Review  1000 non-null   object\n",
      " 1   Rating  1000 non-null   int64 \n",
      "dtypes: int64(1), object(1)\n",
      "memory usage: 15.8+ KB\n"
     ]
    },
    {
     "name": "stderr",
     "output_type": "stream",
     "text": [
      "/var/folders/5g/7m5tb_kn729bgtcb25k58dlc0000gn/T/ipykernel_82065/2361183957.py:2: FutureWarning: DataFrameGroupBy.apply operated on the grouping columns. This behavior is deprecated, and in a future version of pandas the grouping columns will be excluded from the operation. Either pass `include_groups=False` to exclude the groupings or explicitly select the grouping columns after groupby to silence this warning.\n",
      "  df2=df.groupby('Rating', group_keys=False).apply(lambda x: x.sample(min(len(x), 200), random_state=42))\n"
     ]
    },
    {
     "data": {
      "text/plain": [
       "Rating\n",
       "1    200\n",
       "2    200\n",
       "3    200\n",
       "4    200\n",
       "5    200\n",
       "Name: count, dtype: int64"
      ]
     },
     "execution_count": 6,
     "metadata": {},
     "output_type": "execute_result"
    }
   ],
   "source": [
    "#stratified sampling\n",
    "df2=df.groupby('Rating', group_keys=False).apply(lambda x: x.sample(min(len(x), 200), random_state=42))\n",
    "df2=df2.reset_index(drop=True)\n",
    "df2.info()\n",
    "df2['Rating'].value_counts()"
   ]
  },
  {
   "cell_type": "code",
   "execution_count": 7,
   "id": "8f0fd50a",
   "metadata": {},
   "outputs": [],
   "source": [
    "#build vocabulary\n",
    "doc=nlp(' '.join(df2['Review'].astype(str).tolist()))"
   ]
  },
  {
   "cell_type": "code",
   "execution_count": 8,
   "id": "801c9d79",
   "metadata": {},
   "outputs": [],
   "source": [
    "# steps to build frequency based classifier tf idf\n",
    "# 1. create a vocab of words\n",
    "# 2. preprocess the text - lower case, remove stop words, lemmatization, remove punctuations, remove numbers, remove special characters, remove extra spaces\n",
    "# 3. create a document term matrix\n",
    "# 4. calculate tf idf\n",
    "# 5. build a classifier - logistic regression, naive bayes, decision tree, random forest, xgboost"
   ]
  },
  {
   "cell_type": "code",
   "execution_count": 9,
   "id": "95dbac2b",
   "metadata": {},
   "outputs": [],
   "source": [
    "#preprocessing\n",
    "# 1. lower case\n",
    "# 2. remove stop words\n",
    "# 3. lemmatization\n",
    "# 4. remove punctuations\n",
    "# 5. remove numbers\n",
    "# 6. remove special characters\n",
    "# 7. remove extra spaces"
   ]
  },
  {
   "cell_type": "code",
   "execution_count": 10,
   "id": "cfc38946",
   "metadata": {},
   "outputs": [
    {
     "data": {
      "text/html": [
       "<div>\n",
       "<style scoped>\n",
       "    .dataframe tbody tr th:only-of-type {\n",
       "        vertical-align: middle;\n",
       "    }\n",
       "\n",
       "    .dataframe tbody tr th {\n",
       "        vertical-align: top;\n",
       "    }\n",
       "\n",
       "    .dataframe thead th {\n",
       "        text-align: right;\n",
       "    }\n",
       "</style>\n",
       "<table border=\"1\" class=\"dataframe\">\n",
       "  <thead>\n",
       "    <tr style=\"text-align: right;\">\n",
       "      <th></th>\n",
       "      <th>Review</th>\n",
       "      <th>Rating</th>\n",
       "    </tr>\n",
       "  </thead>\n",
       "  <tbody>\n",
       "    <tr>\n",
       "      <th>0</th>\n",
       "      <td>nice hotel expensive parking got good deal sta...</td>\n",
       "      <td>4</td>\n",
       "    </tr>\n",
       "    <tr>\n",
       "      <th>1</th>\n",
       "      <td>ok nothing special charge diamond member hilto...</td>\n",
       "      <td>2</td>\n",
       "    </tr>\n",
       "    <tr>\n",
       "      <th>2</th>\n",
       "      <td>nice rooms not 4* experience hotel monaco seat...</td>\n",
       "      <td>3</td>\n",
       "    </tr>\n",
       "    <tr>\n",
       "      <th>3</th>\n",
       "      <td>unique, great stay, wonderful time hotel monac...</td>\n",
       "      <td>5</td>\n",
       "    </tr>\n",
       "    <tr>\n",
       "      <th>4</th>\n",
       "      <td>great stay great stay, went seahawk game aweso...</td>\n",
       "      <td>5</td>\n",
       "    </tr>\n",
       "  </tbody>\n",
       "</table>\n",
       "</div>"
      ],
      "text/plain": [
       "                                              Review  Rating\n",
       "0  nice hotel expensive parking got good deal sta...       4\n",
       "1  ok nothing special charge diamond member hilto...       2\n",
       "2  nice rooms not 4* experience hotel monaco seat...       3\n",
       "3  unique, great stay, wonderful time hotel monac...       5\n",
       "4  great stay great stay, went seahawk game aweso...       5"
      ]
     },
     "execution_count": 10,
     "metadata": {},
     "output_type": "execute_result"
    }
   ],
   "source": [
    "df.head()"
   ]
  },
  {
   "cell_type": "code",
   "execution_count": 11,
   "id": "c0c0b50c",
   "metadata": {},
   "outputs": [],
   "source": [
    "#lower case\n",
    "def lower_case(text):\n",
    "    return text.lower()\n"
   ]
  },
  {
   "cell_type": "code",
   "execution_count": 12,
   "id": "4f4f667d",
   "metadata": {},
   "outputs": [],
   "source": [
    "#remove stop words\n",
    "def remove_stop_words(text):\n",
    "    doc = nlp(text)\n",
    "    tokens = [token.text for token in doc if not token.is_stop]\n",
    "    return ' '.join(tokens)\n"
   ]
  },
  {
   "cell_type": "code",
   "execution_count": 13,
   "id": "93278469",
   "metadata": {},
   "outputs": [],
   "source": [
    "#lemmatization\n",
    "def lemmatization(text):\n",
    "    doc = nlp(text)\n",
    "    tokens = [token.lemma_ for token in doc]\n",
    "    return ' '.join(tokens)\n"
   ]
  },
  {
   "cell_type": "code",
   "execution_count": 14,
   "id": "aa03bf4a",
   "metadata": {},
   "outputs": [],
   "source": [
    "#remove punctuations\n",
    "def remove_punctuations(text):\n",
    "    doc = nlp(text)\n",
    "    tokens = [token.text for token in doc if not token.is_punct]\n",
    "    return ' '.join(tokens)\n"
   ]
  },
  {
   "cell_type": "code",
   "execution_count": 15,
   "id": "cdf42eb1",
   "metadata": {},
   "outputs": [],
   "source": [
    "#remove spcial characters and spaces\n",
    "def remove_special_characters(text):\n",
    "    doc = nlp(text)\n",
    "    tokens = [token.text for token in doc if token.is_alpha]\n",
    "    return ' '.join(tokens)\n"
   ]
  },
  {
   "cell_type": "code",
   "execution_count": 16,
   "id": "0b83c691",
   "metadata": {},
   "outputs": [
    {
     "data": {
      "text/html": [
       "<div>\n",
       "<style scoped>\n",
       "    .dataframe tbody tr th:only-of-type {\n",
       "        vertical-align: middle;\n",
       "    }\n",
       "\n",
       "    .dataframe tbody tr th {\n",
       "        vertical-align: top;\n",
       "    }\n",
       "\n",
       "    .dataframe thead th {\n",
       "        text-align: right;\n",
       "    }\n",
       "</style>\n",
       "<table border=\"1\" class=\"dataframe\">\n",
       "  <thead>\n",
       "    <tr style=\"text-align: right;\">\n",
       "      <th></th>\n",
       "      <th>Review</th>\n",
       "      <th>Rating</th>\n",
       "    </tr>\n",
       "  </thead>\n",
       "  <tbody>\n",
       "    <tr>\n",
       "      <th>0</th>\n",
       "      <td>nice hotel expensive parking got good deal sta...</td>\n",
       "      <td>4</td>\n",
       "    </tr>\n",
       "    <tr>\n",
       "      <th>1</th>\n",
       "      <td>ok nothing special charge diamond member hilto...</td>\n",
       "      <td>2</td>\n",
       "    </tr>\n",
       "    <tr>\n",
       "      <th>2</th>\n",
       "      <td>nice rooms not 4* experience hotel monaco seat...</td>\n",
       "      <td>3</td>\n",
       "    </tr>\n",
       "    <tr>\n",
       "      <th>3</th>\n",
       "      <td>unique, great stay, wonderful time hotel monac...</td>\n",
       "      <td>5</td>\n",
       "    </tr>\n",
       "    <tr>\n",
       "      <th>4</th>\n",
       "      <td>great stay great stay, went seahawk game aweso...</td>\n",
       "      <td>5</td>\n",
       "    </tr>\n",
       "  </tbody>\n",
       "</table>\n",
       "</div>"
      ],
      "text/plain": [
       "                                              Review  Rating\n",
       "0  nice hotel expensive parking got good deal sta...       4\n",
       "1  ok nothing special charge diamond member hilto...       2\n",
       "2  nice rooms not 4* experience hotel monaco seat...       3\n",
       "3  unique, great stay, wonderful time hotel monac...       5\n",
       "4  great stay great stay, went seahawk game aweso...       5"
      ]
     },
     "execution_count": 16,
     "metadata": {},
     "output_type": "execute_result"
    }
   ],
   "source": [
    "#single preprocessing function\n",
    "def preprocess_text(text):\n",
    "    text = lower_case(text)\n",
    "    text = remove_stop_words(text)\n",
    "    text = lemmatization(text)\n",
    "    text = remove_punctuations(text)\n",
    "    text = remove_special_characters(text)\n",
    "    return text\n",
    "\n",
    "df2['Processed_review'] = df2['Review'].astype(str).apply(preprocess_text)\n",
    "df.head()"
   ]
  },
  {
   "cell_type": "code",
   "execution_count": 17,
   "id": "2270615a",
   "metadata": {},
   "outputs": [],
   "source": [
    "#create document term matrix\n",
    "from sklearn.feature_extraction.text import CountVectorizer\n",
    "vectorizer = CountVectorizer()\n",
    "vectorised = vectorizer.fit_transform(df2['Processed_review'])\n",
    "vectorised.toarray()\n",
    "vectorised.shape\n",
    "y = df2['Rating']"
   ]
  },
  {
   "cell_type": "code",
   "execution_count": 18,
   "id": "9d4a38c4",
   "metadata": {},
   "outputs": [
    {
     "data": {
      "text/plain": [
       "(1000, 9000)"
      ]
     },
     "execution_count": 18,
     "metadata": {},
     "output_type": "execute_result"
    }
   ],
   "source": [
    "#tf idf\n",
    "from sklearn.feature_extraction.text import TfidfTransformer\n",
    "tfidf_transformer = TfidfTransformer()\n",
    "X = tfidf_transformer.fit_transform(vectorised)\n",
    "X.toarray()\n",
    "X.shape"
   ]
  },
  {
   "cell_type": "code",
   "execution_count": 19,
   "id": "2331c26f",
   "metadata": {},
   "outputs": [
    {
     "data": {
      "text/html": [
       "<div>\n",
       "<style scoped>\n",
       "    .dataframe tbody tr th:only-of-type {\n",
       "        vertical-align: middle;\n",
       "    }\n",
       "\n",
       "    .dataframe tbody tr th {\n",
       "        vertical-align: top;\n",
       "    }\n",
       "\n",
       "    .dataframe thead th {\n",
       "        text-align: right;\n",
       "    }\n",
       "</style>\n",
       "<table border=\"1\" class=\"dataframe\">\n",
       "  <thead>\n",
       "    <tr style=\"text-align: right;\">\n",
       "      <th></th>\n",
       "      <th>Review</th>\n",
       "      <th>Rating</th>\n",
       "      <th>Processed_review</th>\n",
       "    </tr>\n",
       "  </thead>\n",
       "  <tbody>\n",
       "    <tr>\n",
       "      <th>0</th>\n",
       "      <td>old rude blah reason stayed jacuzzi suite, wis...</td>\n",
       "      <td>1</td>\n",
       "      <td>old rude blah reason stay jacuzzi suite wish s...</td>\n",
       "    </tr>\n",
       "    <tr>\n",
       "      <th>1</th>\n",
       "      <td>hated, just got punta cana stayed melia caribe...</td>\n",
       "      <td>1</td>\n",
       "      <td>hate get punta cana stay melia caribe want sit...</td>\n",
       "    </tr>\n",
       "    <tr>\n",
       "      <th>2</th>\n",
       "      <td>absolutely horrible stayed 30th august jolly c...</td>\n",
       "      <td>1</td>\n",
       "      <td>absolutely horrible stay august jolly carlton ...</td>\n",
       "    </tr>\n",
       "    <tr>\n",
       "      <th>3</th>\n",
       "      <td>problems way stayed 2 nights, property not bad...</td>\n",
       "      <td>1</td>\n",
       "      <td>problem way stay night property bad stay room ...</td>\n",
       "    </tr>\n",
       "    <tr>\n",
       "      <th>4</th>\n",
       "      <td>tourists stay away bad address unless want roc...</td>\n",
       "      <td>1</td>\n",
       "      <td>tourist stay away bad address want rock concer...</td>\n",
       "    </tr>\n",
       "    <tr>\n",
       "      <th>5</th>\n",
       "      <td>3-star service, friends stayed 6 nights nov. p...</td>\n",
       "      <td>1</td>\n",
       "      <td>star service friend stay night nov pretty bad ...</td>\n",
       "    </tr>\n",
       "    <tr>\n",
       "      <th>6</th>\n",
       "      <td>dump, christmas vacation family brother family...</td>\n",
       "      <td>1</td>\n",
       "      <td>dump christmas vacation family brother family ...</td>\n",
       "    </tr>\n",
       "    <tr>\n",
       "      <th>7</th>\n",
       "      <td>think 3 times choose hotel, recently took week...</td>\n",
       "      <td>1</td>\n",
       "      <td>think time choose hotel recently take week lon...</td>\n",
       "    </tr>\n",
       "    <tr>\n",
       "      <th>8</th>\n",
       "      <td>rip, self husband just returned honeymoon even...</td>\n",
       "      <td>1</td>\n",
       "      <td>rip self husband return honeymoon evening wait...</td>\n",
       "    </tr>\n",
       "    <tr>\n",
       "      <th>9</th>\n",
       "      <td>n't stay, youth hostel, boyfriend stayed night...</td>\n",
       "      <td>1</td>\n",
       "      <td>stay youth hostel boyfriend stay night hotel l...</td>\n",
       "    </tr>\n",
       "  </tbody>\n",
       "</table>\n",
       "</div>"
      ],
      "text/plain": [
       "                                              Review  Rating  \\\n",
       "0  old rude blah reason stayed jacuzzi suite, wis...       1   \n",
       "1  hated, just got punta cana stayed melia caribe...       1   \n",
       "2  absolutely horrible stayed 30th august jolly c...       1   \n",
       "3  problems way stayed 2 nights, property not bad...       1   \n",
       "4  tourists stay away bad address unless want roc...       1   \n",
       "5  3-star service, friends stayed 6 nights nov. p...       1   \n",
       "6  dump, christmas vacation family brother family...       1   \n",
       "7  think 3 times choose hotel, recently took week...       1   \n",
       "8  rip, self husband just returned honeymoon even...       1   \n",
       "9  n't stay, youth hostel, boyfriend stayed night...       1   \n",
       "\n",
       "                                    Processed_review  \n",
       "0  old rude blah reason stay jacuzzi suite wish s...  \n",
       "1  hate get punta cana stay melia caribe want sit...  \n",
       "2  absolutely horrible stay august jolly carlton ...  \n",
       "3  problem way stay night property bad stay room ...  \n",
       "4  tourist stay away bad address want rock concer...  \n",
       "5  star service friend stay night nov pretty bad ...  \n",
       "6  dump christmas vacation family brother family ...  \n",
       "7  think time choose hotel recently take week lon...  \n",
       "8  rip self husband return honeymoon evening wait...  \n",
       "9  stay youth hostel boyfriend stay night hotel l...  "
      ]
     },
     "execution_count": 19,
     "metadata": {},
     "output_type": "execute_result"
    }
   ],
   "source": [
    "#classification\n",
    "from sklearn.model_selection import train_test_split\n",
    "X_train, X_test, y_train, y_test = train_test_split(X, y, test_size=0.2, random_state=42)\n",
    "df2.head(10)"
   ]
  },
  {
   "cell_type": "code",
   "execution_count": 20,
   "id": "5ab016ff",
   "metadata": {},
   "outputs": [
    {
     "data": {
      "text/plain": [
       "'mediocre good intercontinental material wow dissapointment usually rest assure intercontinental location high order case intercontinental dallas positive entrance impressive location close galleria numerous place eat shop recommend hotel intercontinental ashamed location elevator old stale cigarette smoke odor noticeable hallway clean appear ok look renovated little attention crown molding door look cheap wall paper thin enter room hear peron room door urinate right urinating extremely loud hallway feel like person restroom room mediocre well bed horrible usually intercontinental superb bed featherbed comforter location run hotel bed cheap mattress cheaper bed stay holiday inn expresses own intercontinental hotel nice sumptuous room bed bathroom lackluster old fixture outdate shower disappointing towel horrific kid towel holiday inn express nice location cheap order day intercontinental towel extremely disappointed location stay sound like nitpick complainer price chump book room straight intercontinental plus fee use gym well hi express hampton inn location cheaper having stay intercontinental atlanta time spoil amenity intercontinental dallas intercontinental hotel ashamed location bear usually superior shame intercontinental well'"
      ]
     },
     "execution_count": 20,
     "metadata": {},
     "output_type": "execute_result"
    }
   ],
   "source": [
    "df2.iloc[100]\n",
    "df2.iloc[100]['Processed_review']\n"
   ]
  },
  {
   "cell_type": "code",
   "execution_count": 21,
   "id": "3314cf7b",
   "metadata": {},
   "outputs": [
    {
     "name": "stdout",
     "output_type": "stream",
     "text": [
      "[[27  2  1  1  2]\n",
      " [24  2 14  7  1]\n",
      " [ 7  1 12 13  4]\n",
      " [ 5  3  4 11 15]\n",
      " [ 4  1  2  9 28]]\n",
      "              precision    recall  f1-score   support\n",
      "\n",
      "           1       0.40      0.82      0.54        33\n",
      "           2       0.22      0.04      0.07        48\n",
      "           3       0.36      0.32      0.34        37\n",
      "           4       0.27      0.29      0.28        38\n",
      "           5       0.56      0.64      0.60        44\n",
      "\n",
      "    accuracy                           0.40       200\n",
      "   macro avg       0.36      0.42      0.37       200\n",
      "weighted avg       0.36      0.40      0.35       200\n",
      "\n",
      "Accuracy: 0.40\n"
     ]
    }
   ],
   "source": [
    "#random forest classifier\n",
    "from sklearn.ensemble import RandomForestClassifier\n",
    "rf = RandomForestClassifier()\n",
    "rf.fit(X_train, y_train)\n",
    "y_pred = rf.predict(X_test)\n",
    "y_pred\n",
    "from sklearn.metrics import classification_report, confusion_matrix\n",
    "print(confusion_matrix(y_test, y_pred))\n",
    "print(classification_report(y_test, y_pred))\n",
    "\n",
    "#accuracy\n",
    "from sklearn.metrics import accuracy_score\n",
    "accuracy = accuracy_score(y_test, y_pred)\n",
    "print(f'Accuracy: {accuracy:.2f}')\n",
    "\n"
   ]
  },
  {
   "cell_type": "code",
   "execution_count": 22,
   "id": "d8fc4590",
   "metadata": {},
   "outputs": [
    {
     "name": "stdout",
     "output_type": "stream",
     "text": [
      "[[13  9  8  1  2]\n",
      " [19  9 13  5  2]\n",
      " [ 8  9 13  4  3]\n",
      " [ 6  3  9 11  9]\n",
      " [ 6  8 12  8 10]]\n",
      "              precision    recall  f1-score   support\n",
      "\n",
      "           1       0.25      0.39      0.31        33\n",
      "           2       0.24      0.19      0.21        48\n",
      "           3       0.24      0.35      0.28        37\n",
      "           4       0.38      0.29      0.33        38\n",
      "           5       0.38      0.23      0.29        44\n",
      "\n",
      "    accuracy                           0.28       200\n",
      "   macro avg       0.30      0.29      0.28       200\n",
      "weighted avg       0.30      0.28      0.28       200\n",
      "\n",
      "Accuracy: 0.28\n"
     ]
    }
   ],
   "source": [
    "#naives bayes classifier\n",
    "from sklearn.naive_bayes import GaussianNB, MultinomialNB\n",
    "nb = GaussianNB()\n",
    "nb.fit(X_train.toarray(), y_train)\n",
    "y_pred_nb = nb.predict(X_test.toarray())\n",
    "y_pred_nb\n",
    "print(confusion_matrix(y_test, y_pred_nb))\n",
    "print(classification_report(y_test, y_pred_nb))\n",
    "accuracy_nb = accuracy_score(y_test, y_pred_nb)\n",
    "print(f'Accuracy: {accuracy_nb:.2f}')\n"
   ]
  },
  {
   "cell_type": "code",
   "execution_count": null,
   "id": "7df5713a",
   "metadata": {},
   "outputs": [
    {
     "name": "stdout",
     "output_type": "stream",
     "text": [
      "[5]\n"
     ]
    }
   ],
   "source": [
    "new_review = [\"The hotel was okay. Staff were friendly. Food was great\"]\n",
    "\n",
    "#use the same preprocessing steps on the new review\n",
    "new_review = [lower_case(review) for review in new_review]\n",
    "new_review = [remove_stop_words(review) for review in new_review]\n",
    "new_review = [lemmatization(review) for review in new_review]\n",
    "new_review = [remove_punctuations(review) for review in new_review]\n",
    "new_review = [remove_special_characters(review) for review in new_review]\n",
    "\n",
    "#predict the rating\n",
    "new_vectorised = vectorizer.transform(new_review)\n",
    "new_tfidf = tfidf_transformer.transform(new_vectorised)\n",
    "\n",
    "print(new_tfidf.toarray())\n",
    "new_pred = rf.predict(new_tfidf)\n",
    "print(new_pred)"
   ]
  }
 ],
 "metadata": {
  "kernelspec": {
   "display_name": "3.12.2",
   "language": "python",
   "name": "python3"
  },
  "language_info": {
   "codemirror_mode": {
    "name": "ipython",
    "version": 3
   },
   "file_extension": ".py",
   "mimetype": "text/x-python",
   "name": "python",
   "nbconvert_exporter": "python",
   "pygments_lexer": "ipython3",
   "version": "3.12.2"
  }
 },
 "nbformat": 4,
 "nbformat_minor": 5
}
