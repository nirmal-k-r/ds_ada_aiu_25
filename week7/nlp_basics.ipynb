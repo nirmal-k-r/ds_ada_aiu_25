{
 "cells": [
  {
   "cell_type": "code",
   "execution_count": 1,
   "id": "28be5ccc",
   "metadata": {},
   "outputs": [],
   "source": [
    "import pandas as pd\n",
    "import numpy as np\n",
    "import spacy"
   ]
  },
  {
   "cell_type": "code",
   "execution_count": 2,
   "id": "1ab450d7",
   "metadata": {},
   "outputs": [
    {
     "name": "stdout",
     "output_type": "stream",
     "text": [
      "Donald Trump is an American businessman, television personality, and politician who served as the 45th President of the United States from January 2017 to January 2021. Before entering politics, he was best known for his career in real estate development, branding, and media, particularly as the chairman and president of The Trump Organization and the host of the reality TV show The Apprentice. His presidency was marked by a populist and nationalist agenda, focusing on issues such as immigration reform, deregulation, trade renegotiations, and tax cuts. Trump’s leadership style and communication methods, particularly his use of social media, were highly unconventional and often polarising. Following his 2020 electoral defeat to Joe Biden, Trump remained an influential figure within the Republican Party, continuing to shape American political discourse and mobilise a large base of supporters.\n"
     ]
    }
   ],
   "source": [
    "text='Donald Trump is an American businessman, television personality, and politician who served as the 45th President of the United States from January 2017 to January 2021. Before entering politics, he was best known for his career in real estate development, branding, and media, particularly as the chairman and president of The Trump Organization and the host of the reality TV show The Apprentice. His presidency was marked by a populist and nationalist agenda, focusing on issues such as immigration reform, deregulation, trade renegotiations, and tax cuts. Trump’s leadership style and communication methods, particularly his use of social media, were highly unconventional and often polarising. Following his 2020 electoral defeat to Joe Biden, Trump remained an influential figure within the Republican Party, continuing to shape American political discourse and mobilise a large base of supporters.'\n",
    "\n",
    "print(text)"
   ]
  },
  {
   "cell_type": "code",
   "execution_count": 3,
   "id": "8974e471",
   "metadata": {},
   "outputs": [],
   "source": [
    "#NLP steps\n",
    "# 1. Split sentences\n",
    "# 2. Tokenization\n",
    "# 3. Remove stop words\n",
    "# 4. Lemmatization/Stemming\n",
    "# 5. POS tagging\n",
    "# 6. Named Entity Recognition\n",
    "# 7. Dependency Parsing\n",
    "# 8. Vectorization\n",
    "# 9. Sentiment Analysis\n",
    "# 10. Topic Modeling\n",
    "# 11. Text Classification\n"
   ]
  },
  {
   "cell_type": "code",
   "execution_count": 4,
   "id": "2bbdb570",
   "metadata": {},
   "outputs": [
    {
     "name": "stdout",
     "output_type": "stream",
     "text": [
      "Donald Trump is an American businessman, television personality, and politician who served as the 45th President of the United States from January 2017 to January 2021.\n",
      "\n",
      "\n",
      "Before entering politics, he was best known for his career in real estate development, branding, and media, particularly as the chairman and president of The Trump Organization and the host of the reality TV show The Apprentice.\n",
      "\n",
      "\n",
      "His presidency was marked by a populist and nationalist agenda, focusing on issues such as immigration reform, deregulation, trade renegotiations, and tax cuts.\n",
      "\n",
      "\n",
      "Trump’s leadership style and communication methods, particularly his use of social media, were highly unconventional and often polarising.\n",
      "\n",
      "\n",
      "Following his 2020 electoral defeat to Joe Biden, Trump remained an influential figure within the Republican Party, continuing to shape American political discourse and mobilise a large base of supporters.\n",
      "\n",
      "\n"
     ]
    }
   ],
   "source": [
    "#split sentences\n",
    "\n",
    "nlp=spacy.load('en_core_web_lg')  #load sentences\n",
    "\n",
    "\n",
    "doc=nlp(text) #process the text\n",
    "\n",
    "\n",
    "#print the sentences\n",
    "for sentence in doc.sents:\n",
    "    print(sentence.text)\n",
    "    print('\\n')\n"
   ]
  },
  {
   "cell_type": "code",
   "execution_count": 5,
   "id": "b865e3cb",
   "metadata": {},
   "outputs": [
    {
     "name": "stdout",
     "output_type": "stream",
     "text": [
      "[Donald Trump is an American businessman, television personality, and politician who served as the 45th President of the United States from January 2017 to January 2021., Before entering politics, he was best known for his career in real estate development, branding, and media, particularly as the chairman and president of The Trump Organization and the host of the reality TV show The Apprentice., His presidency was marked by a populist and nationalist agenda, focusing on issues such as immigration reform, deregulation, trade renegotiations, and tax cuts., Trump’s leadership style and communication methods, particularly his use of social media, were highly unconventional and often polarising., Following his 2020 electoral defeat to Joe Biden, Trump remained an influential figure within the Republican Party, continuing to shape American political discourse and mobilise a large base of supporters.]\n"
     ]
    }
   ],
   "source": [
    "#generare a list of sentences\n",
    "sentences=list(doc.sents) #convert to list\n",
    "print(sentences) #print first sentence"
   ]
  },
  {
   "cell_type": "code",
   "execution_count": 6,
   "id": "94f5c1d2",
   "metadata": {},
   "outputs": [
    {
     "name": "stdout",
     "output_type": "stream",
     "text": [
      "[Donald, Trump, is, an, American, businessman, ,, television, personality, ,, and, politician, who, served, as, the, 45th, President, of, the, United, States, from, January, 2017, to, January, 2021, ., Before, entering, politics, ,, he, was, best, known, for, his, career, in, real, estate, development, ,, branding, ,, and, media, ,, particularly, as, the, chairman, and, president, of, The, Trump, Organization, and, the, host, of, the, reality, TV, show, The, Apprentice, ., His, presidency, was, marked, by, a, populist, and, nationalist, agenda, ,, focusing, on, issues, such, as, immigration, reform, ,, deregulation, ,, trade, renegotiations, ,, and, tax, cuts, ., Trump, ’s, leadership, style, and, communication, methods, ,, particularly, his, use, of, social, media, ,, were, highly, unconventional, and, often, polarising, ., Following, his, 2020, electoral, defeat, to, Joe, Biden, ,, Trump, remained, an, influential, figure, within, the, Republican, Party, ,, continuing, to, shape, American, political, discourse, and, mobilise, a, large, base, of, supporters, .]\n"
     ]
    }
   ],
   "source": [
    "#tokenise\n",
    "tokens = [token for token in doc]\n",
    "print(tokens) #print the tokens"
   ]
  },
  {
   "cell_type": "code",
   "execution_count": 7,
   "id": "bbc2c26a",
   "metadata": {},
   "outputs": [
    {
     "name": "stdout",
     "output_type": "stream",
     "text": [
      "154\n"
     ]
    },
    {
     "data": {
      "text/plain": [
       "3403785101479364457"
      ]
     },
     "execution_count": 7,
     "metadata": {},
     "output_type": "execute_result"
    }
   ],
   "source": [
    "# for token in doc:\n",
    "#     print(token.text, token.idx) #print the token and its index\n",
    "\n",
    "#get unique tokens\n",
    "unique_tokens = set(tokens)\n",
    "print(len(unique_tokens)) #print unique tokens\n",
    "\n",
    "\n",
    "doc.vocab.strings['television']"
   ]
  },
  {
   "cell_type": "code",
   "execution_count": 8,
   "id": "ec59faeb",
   "metadata": {},
   "outputs": [
    {
     "name": "stdout",
     "output_type": "stream",
     "text": [
      "Donald PROPN\n",
      "Trump PROPN\n",
      "is AUX\n",
      "an DET\n",
      "American ADJ\n",
      "businessman NOUN\n",
      ", PUNCT\n",
      "television NOUN\n",
      "personality NOUN\n",
      ", PUNCT\n",
      "and CCONJ\n",
      "politician NOUN\n",
      "who PRON\n",
      "served VERB\n",
      "as ADP\n",
      "the DET\n",
      "45th ADJ\n",
      "President PROPN\n",
      "of ADP\n",
      "the DET\n",
      "United PROPN\n",
      "States PROPN\n",
      "from ADP\n",
      "January PROPN\n",
      "2017 NUM\n",
      "to ADP\n",
      "January PROPN\n",
      "2021 NUM\n",
      ". PUNCT\n",
      "Before ADP\n",
      "entering VERB\n",
      "politics NOUN\n",
      ", PUNCT\n",
      "he PRON\n",
      "was AUX\n",
      "best ADV\n",
      "known VERB\n",
      "for ADP\n",
      "his PRON\n",
      "career NOUN\n",
      "in ADP\n",
      "real ADJ\n",
      "estate NOUN\n",
      "development NOUN\n",
      ", PUNCT\n",
      "branding NOUN\n",
      ", PUNCT\n",
      "and CCONJ\n",
      "media NOUN\n",
      ", PUNCT\n",
      "particularly ADV\n",
      "as SCONJ\n",
      "the DET\n",
      "chairman NOUN\n",
      "and CCONJ\n",
      "president NOUN\n",
      "of ADP\n",
      "The DET\n",
      "Trump PROPN\n",
      "Organization PROPN\n",
      "and CCONJ\n",
      "the DET\n",
      "host NOUN\n",
      "of ADP\n",
      "the DET\n",
      "reality NOUN\n",
      "TV NOUN\n",
      "show NOUN\n",
      "The DET\n",
      "Apprentice PROPN\n",
      ". PUNCT\n",
      "His PRON\n",
      "presidency NOUN\n",
      "was AUX\n",
      "marked VERB\n",
      "by ADP\n",
      "a DET\n",
      "populist ADJ\n",
      "and CCONJ\n",
      "nationalist ADJ\n",
      "agenda NOUN\n",
      ", PUNCT\n",
      "focusing VERB\n",
      "on ADP\n",
      "issues NOUN\n",
      "such ADJ\n",
      "as ADP\n",
      "immigration NOUN\n",
      "reform NOUN\n",
      ", PUNCT\n",
      "deregulation NOUN\n",
      ", PUNCT\n",
      "trade NOUN\n",
      "renegotiations NOUN\n",
      ", PUNCT\n",
      "and CCONJ\n",
      "tax NOUN\n",
      "cuts NOUN\n",
      ". PUNCT\n",
      "Trump PROPN\n",
      "’s PART\n",
      "leadership NOUN\n",
      "style NOUN\n",
      "and CCONJ\n",
      "communication NOUN\n",
      "methods NOUN\n",
      ", PUNCT\n",
      "particularly ADV\n",
      "his PRON\n",
      "use NOUN\n",
      "of ADP\n",
      "social ADJ\n",
      "media NOUN\n",
      ", PUNCT\n",
      "were AUX\n",
      "highly ADV\n",
      "unconventional ADJ\n",
      "and CCONJ\n",
      "often ADV\n",
      "polarising VERB\n",
      ". PUNCT\n",
      "Following VERB\n",
      "his PRON\n",
      "2020 NUM\n",
      "electoral ADJ\n",
      "defeat NOUN\n",
      "to ADP\n",
      "Joe PROPN\n",
      "Biden PROPN\n",
      ", PUNCT\n",
      "Trump PROPN\n",
      "remained VERB\n",
      "an DET\n",
      "influential ADJ\n",
      "figure NOUN\n",
      "within ADP\n",
      "the DET\n",
      "Republican PROPN\n",
      "Party PROPN\n",
      ", PUNCT\n",
      "continuing VERB\n",
      "to PART\n",
      "shape VERB\n",
      "American ADJ\n",
      "political ADJ\n",
      "discourse NOUN\n",
      "and CCONJ\n",
      "mobilise VERB\n",
      "a DET\n",
      "large ADJ\n",
      "base NOUN\n",
      "of ADP\n",
      "supporters NOUN\n",
      ". PUNCT\n"
     ]
    }
   ],
   "source": [
    "#POS tagging\n",
    "for token in doc:\n",
    "    print(token.text, token.pos_) #print the token and its POS tag"
   ]
  },
  {
   "cell_type": "code",
   "execution_count": 9,
   "id": "4d2d4b0d",
   "metadata": {},
   "outputs": [
    {
     "name": "stdout",
     "output_type": "stream",
     "text": [
      "[('served', 'VERB'), ('entering', 'VERB'), ('known', 'VERB'), ('marked', 'VERB'), ('focusing', 'VERB'), ('polarising', 'VERB'), ('Following', 'VERB'), ('remained', 'VERB'), ('continuing', 'VERB'), ('shape', 'VERB'), ('mobilise', 'VERB')]\n"
     ]
    }
   ],
   "source": [
    "#filter only nouns and prononouns\n",
    "\n",
    "data=[]\n",
    "for token in doc:\n",
    "    if token.pos_ in ['VERB']:\n",
    "        data.append((token.text, token.pos_))\n",
    "\n",
    "print(data)"
   ]
  },
  {
   "cell_type": "code",
   "execution_count": 10,
   "id": "85727813",
   "metadata": {},
   "outputs": [
    {
     "name": "stdout",
     "output_type": "stream",
     "text": [
      "Donald Trump PERSON\n",
      "American NORP\n",
      "45th ORDINAL\n",
      "the United States GPE\n",
      "January 2017 to January 2021 DATE\n",
      "The Trump Organization ORG\n",
      "Apprentice ORG\n",
      "Trump ORG\n",
      "2020 DATE\n",
      "Joe Biden PERSON\n",
      "Trump ORG\n",
      "the Republican Party ORG\n",
      "American NORP\n"
     ]
    }
   ],
   "source": [
    "#Named entity recoginition\n",
    "for ent in doc.ents:\n",
    "    print(ent.text, ent.label_) #print the entity and its label"
   ]
  },
  {
   "cell_type": "code",
   "execution_count": 11,
   "id": "6ca1494a",
   "metadata": {},
   "outputs": [
    {
     "name": "stdout",
     "output_type": "stream",
     "text": [
      "Donald Donald\n",
      "Trump Trump\n",
      "is be\n",
      "an an\n",
      "American american\n",
      "businessman businessman\n",
      ", ,\n",
      "television television\n",
      "personality personality\n",
      ", ,\n",
      "and and\n",
      "politician politician\n",
      "who who\n",
      "served serve\n",
      "as as\n",
      "the the\n",
      "45th 45th\n",
      "President President\n",
      "of of\n",
      "the the\n",
      "United United\n",
      "States States\n",
      "from from\n",
      "January January\n",
      "2017 2017\n",
      "to to\n",
      "January January\n",
      "2021 2021\n",
      ". .\n",
      "Before before\n",
      "entering enter\n",
      "politics politic\n",
      ", ,\n",
      "he he\n",
      "was be\n",
      "best well\n",
      "known know\n",
      "for for\n",
      "his his\n",
      "career career\n",
      "in in\n",
      "real real\n",
      "estate estate\n",
      "development development\n",
      ", ,\n",
      "branding branding\n",
      ", ,\n",
      "and and\n",
      "media medium\n",
      ", ,\n",
      "particularly particularly\n",
      "as as\n",
      "the the\n",
      "chairman chairman\n",
      "and and\n",
      "president president\n",
      "of of\n",
      "The the\n",
      "Trump Trump\n",
      "Organization Organization\n",
      "and and\n",
      "the the\n",
      "host host\n",
      "of of\n",
      "the the\n",
      "reality reality\n",
      "TV tv\n",
      "show show\n",
      "The the\n",
      "Apprentice Apprentice\n",
      ". .\n",
      "His his\n",
      "presidency presidency\n",
      "was be\n",
      "marked mark\n",
      "by by\n",
      "a a\n",
      "populist populist\n",
      "and and\n",
      "nationalist nationalist\n",
      "agenda agenda\n",
      ", ,\n",
      "focusing focus\n",
      "on on\n",
      "issues issue\n",
      "such such\n",
      "as as\n",
      "immigration immigration\n",
      "reform reform\n",
      ", ,\n",
      "deregulation deregulation\n",
      ", ,\n",
      "trade trade\n",
      "renegotiations renegotiation\n",
      ", ,\n",
      "and and\n",
      "tax tax\n",
      "cuts cut\n",
      ". .\n",
      "Trump Trump\n",
      "’s ’s\n",
      "leadership leadership\n",
      "style style\n",
      "and and\n",
      "communication communication\n",
      "methods method\n",
      ", ,\n",
      "particularly particularly\n",
      "his his\n",
      "use use\n",
      "of of\n",
      "social social\n",
      "media medium\n",
      ", ,\n",
      "were be\n",
      "highly highly\n",
      "unconventional unconventional\n",
      "and and\n",
      "often often\n",
      "polarising polarise\n",
      ". .\n",
      "Following follow\n",
      "his his\n",
      "2020 2020\n",
      "electoral electoral\n",
      "defeat defeat\n",
      "to to\n",
      "Joe Joe\n",
      "Biden Biden\n",
      ", ,\n",
      "Trump Trump\n",
      "remained remain\n",
      "an an\n",
      "influential influential\n",
      "figure figure\n",
      "within within\n",
      "the the\n",
      "Republican Republican\n",
      "Party Party\n",
      ", ,\n",
      "continuing continue\n",
      "to to\n",
      "shape shape\n",
      "American american\n",
      "political political\n",
      "discourse discourse\n",
      "and and\n",
      "mobilise mobilise\n",
      "a a\n",
      "large large\n",
      "base base\n",
      "of of\n",
      "supporters supporter\n",
      ". .\n"
     ]
    }
   ],
   "source": [
    "#lemmatisation\n",
    "for token in doc:\n",
    "    print(token.text, token.lemma_) #print the token and its lemma"
   ]
  },
  {
   "cell_type": "code",
   "execution_count": 12,
   "id": "e3d8770a",
   "metadata": {},
   "outputs": [
    {
     "name": "stdout",
     "output_type": "stream",
     "text": [
      "Donald Trump is an American businessman, television personality, and politician who served as the 45th President of the United States from January 2017 to January 2021.\n",
      "Donald compound Trump PROPN []\n",
      "Trump nsubj is AUX [Donald]\n",
      "is ROOT is AUX [Trump, businessman, .]\n",
      "an det businessman NOUN []\n",
      "American amod businessman NOUN []\n",
      "businessman attr is AUX [an, American, ,, personality]\n",
      ", punct businessman NOUN []\n",
      "television compound personality NOUN []\n",
      "personality conj businessman NOUN [television, ,, and, politician]\n",
      ", punct personality NOUN []\n",
      "and cc personality NOUN []\n",
      "politician conj personality NOUN [served]\n",
      "who nsubj served VERB []\n",
      "served relcl politician NOUN [who, as, from]\n",
      "as prep served VERB [President]\n",
      "the det President PROPN []\n",
      "45th amod President PROPN []\n",
      "President pobj as ADP [the, 45th, of]\n",
      "of prep President PROPN [States]\n",
      "the det States PROPN []\n",
      "United compound States PROPN []\n",
      "States pobj of ADP [the, United]\n",
      "from prep served VERB [January, to]\n",
      "January pobj from ADP [2017]\n",
      "2017 nummod January PROPN []\n",
      "to prep from ADP [January]\n",
      "January pobj to ADP [2021]\n",
      "2021 nummod January PROPN []\n",
      ". punct is AUX []\n"
     ]
    }
   ],
   "source": [
    "#dependency parsing\n",
    "\n",
    "sent1=list(doc.sents)[0]\n",
    "print(sent1)\n",
    "\n",
    "for token in sent1:\n",
    "    print(token.text, token.dep_, token.head.text, token.head.pos_,[child for child in token.children]) #print the token and its dependency\n"
   ]
  },
  {
   "cell_type": "code",
   "execution_count": null,
   "id": "edc4e762",
   "metadata": {},
   "outputs": [
    {
     "ename": "ImportError",
     "evalue": "cannot import name 'display' from 'IPython.core.display' (/Users/nirmal/Library/Python/3.13/lib/python/site-packages/IPython/core/display.py)",
     "output_type": "error",
     "traceback": [
      "\u001b[31m---------------------------------------------------------------------------\u001b[39m",
      "\u001b[31mImportError\u001b[39m                               Traceback (most recent call last)",
      "\u001b[36mCell\u001b[39m\u001b[36m \u001b[39m\u001b[32mIn[21]\u001b[39m\u001b[32m, line 2\u001b[39m\n\u001b[32m      1\u001b[39m \u001b[38;5;66;03m#visualise with displacy\u001b[39;00m\n\u001b[32m----> \u001b[39m\u001b[32m2\u001b[39m html = \u001b[43mspacy\u001b[49m\u001b[43m.\u001b[49m\u001b[43mdisplacy\u001b[49m\u001b[43m.\u001b[49m\u001b[43mrender\u001b[49m\u001b[43m(\u001b[49m\u001b[43msent1\u001b[49m\u001b[43m,\u001b[49m\u001b[43m \u001b[49m\u001b[43mstyle\u001b[49m\u001b[43m=\u001b[49m\u001b[33;43m'\u001b[39;49m\u001b[33;43mdep\u001b[39;49m\u001b[33;43m'\u001b[39;49m\u001b[43m,\u001b[49m\u001b[43m \u001b[49m\u001b[43moptions\u001b[49m\u001b[43m=\u001b[49m\u001b[43m{\u001b[49m\u001b[33;43m'\u001b[39;49m\u001b[33;43mdistance\u001b[39;49m\u001b[33;43m'\u001b[39;49m\u001b[43m:\u001b[49m\u001b[43m \u001b[49m\u001b[32;43m120\u001b[39;49m\u001b[43m}\u001b[49m\u001b[43m)\u001b[49m\n\u001b[32m      3\u001b[39m \u001b[38;5;66;03m# If you're in Jupyter:\u001b[39;00m\n\u001b[32m      4\u001b[39m \u001b[38;5;28;01mfrom\u001b[39;00m\u001b[38;5;250m \u001b[39m\u001b[34;01mIPython\u001b[39;00m\u001b[34;01m.\u001b[39;00m\u001b[34;01mdisplay\u001b[39;00m\u001b[38;5;250m \u001b[39m\u001b[38;5;28;01mimport\u001b[39;00m HTML\n",
      "\u001b[36mFile \u001b[39m\u001b[32m/Library/Frameworks/Python.framework/Versions/3.13/lib/python3.13/site-packages/spacy/displacy/__init__.py:69\u001b[39m, in \u001b[36mrender\u001b[39m\u001b[34m(docs, style, page, minify, jupyter, options, manual)\u001b[39m\n\u001b[32m     65\u001b[39m     html = RENDER_WRAPPER(html)\n\u001b[32m     66\u001b[39m \u001b[38;5;28;01mif\u001b[39;00m jupyter \u001b[38;5;129;01mor\u001b[39;00m (jupyter \u001b[38;5;129;01mis\u001b[39;00m \u001b[38;5;28;01mNone\u001b[39;00m \u001b[38;5;129;01mand\u001b[39;00m is_in_jupyter()):\n\u001b[32m     67\u001b[39m     \u001b[38;5;66;03m# return HTML rendered by IPython display()\u001b[39;00m\n\u001b[32m     68\u001b[39m     \u001b[38;5;66;03m# See #4840 for details on span wrapper to disable mathjax\u001b[39;00m\n\u001b[32m---> \u001b[39m\u001b[32m69\u001b[39m     \u001b[38;5;28;01mfrom\u001b[39;00m\u001b[38;5;250m \u001b[39m\u001b[34;01mIPython\u001b[39;00m\u001b[34;01m.\u001b[39;00m\u001b[34;01mcore\u001b[39;00m\u001b[34;01m.\u001b[39;00m\u001b[34;01mdisplay\u001b[39;00m\u001b[38;5;250m \u001b[39m\u001b[38;5;28;01mimport\u001b[39;00m HTML, display\n\u001b[32m     71\u001b[39m     \u001b[38;5;28;01mreturn\u001b[39;00m display(HTML(\u001b[33m'\u001b[39m\u001b[33m<span class=\u001b[39m\u001b[33m\"\u001b[39m\u001b[33mtex2jax_ignore\u001b[39m\u001b[33m\"\u001b[39m\u001b[33m>\u001b[39m\u001b[38;5;132;01m{}\u001b[39;00m\u001b[33m</span>\u001b[39m\u001b[33m'\u001b[39m.format(html)))\n\u001b[32m     72\u001b[39m \u001b[38;5;28;01mreturn\u001b[39;00m html\n",
      "\u001b[31mImportError\u001b[39m: cannot import name 'display' from 'IPython.core.display' (/Users/nirmal/Library/Python/3.13/lib/python/site-packages/IPython/core/display.py)"
     ]
    }
   ],
   "source": [
    "#visualise with displacy\n",
    "spacy.displacy.serve(sent1, style='dep', options={'distance': 120})"
   ]
  },
  {
   "cell_type": "code",
   "execution_count": null,
   "id": "83ca070a",
   "metadata": {},
   "outputs": [],
   "source": []
  }
 ],
 "metadata": {
  "kernelspec": {
   "display_name": "Python 3",
   "language": "python",
   "name": "python3"
  },
  "language_info": {
   "codemirror_mode": {
    "name": "ipython",
    "version": 3
   },
   "file_extension": ".py",
   "mimetype": "text/x-python",
   "name": "python",
   "nbconvert_exporter": "python",
   "pygments_lexer": "ipython3",
   "version": "3.13.4"
  }
 },
 "nbformat": 4,
 "nbformat_minor": 5
}
